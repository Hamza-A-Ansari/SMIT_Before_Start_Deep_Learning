{
 "cells": [
  {
   "cell_type": "markdown",
   "id": "1bf222e4",
   "metadata": {},
   "source": [
    "# Marks Sheet Grading Example for AI, ML and DL"
   ]
  },
  {
   "cell_type": "code",
   "execution_count": 27,
   "id": "69050f4e",
   "metadata": {},
   "outputs": [],
   "source": [
    "import numpy as np\n",
    "import pandas as pd"
   ]
  },
  {
   "cell_type": "code",
   "execution_count": 28,
   "id": "bec87ca9",
   "metadata": {},
   "outputs": [
    {
     "data": {
      "text/html": [
       "<div>\n",
       "<style scoped>\n",
       "    .dataframe tbody tr th:only-of-type {\n",
       "        vertical-align: middle;\n",
       "    }\n",
       "\n",
       "    .dataframe tbody tr th {\n",
       "        vertical-align: top;\n",
       "    }\n",
       "\n",
       "    .dataframe thead th {\n",
       "        text-align: right;\n",
       "    }\n",
       "</style>\n",
       "<table border=\"1\" class=\"dataframe\">\n",
       "  <thead>\n",
       "    <tr style=\"text-align: right;\">\n",
       "      <th></th>\n",
       "      <th>s1</th>\n",
       "      <th>s2</th>\n",
       "      <th>s3</th>\n",
       "      <th>s4</th>\n",
       "      <th>s5</th>\n",
       "    </tr>\n",
       "  </thead>\n",
       "  <tbody>\n",
       "    <tr>\n",
       "      <th>0</th>\n",
       "      <td>20</td>\n",
       "      <td>25</td>\n",
       "      <td>22</td>\n",
       "      <td>31</td>\n",
       "      <td>22</td>\n",
       "    </tr>\n",
       "    <tr>\n",
       "      <th>1</th>\n",
       "      <td>24</td>\n",
       "      <td>26</td>\n",
       "      <td>23</td>\n",
       "      <td>25</td>\n",
       "      <td>23</td>\n",
       "    </tr>\n",
       "    <tr>\n",
       "      <th>2</th>\n",
       "      <td>27</td>\n",
       "      <td>26</td>\n",
       "      <td>21</td>\n",
       "      <td>25</td>\n",
       "      <td>21</td>\n",
       "    </tr>\n",
       "    <tr>\n",
       "      <th>3</th>\n",
       "      <td>22</td>\n",
       "      <td>21</td>\n",
       "      <td>21</td>\n",
       "      <td>20</td>\n",
       "      <td>20</td>\n",
       "    </tr>\n",
       "    <tr>\n",
       "      <th>4</th>\n",
       "      <td>28</td>\n",
       "      <td>25</td>\n",
       "      <td>31</td>\n",
       "      <td>22</td>\n",
       "      <td>23</td>\n",
       "    </tr>\n",
       "  </tbody>\n",
       "</table>\n",
       "</div>"
      ],
      "text/plain": [
       "   s1  s2  s3  s4  s5\n",
       "0  20  25  22  31  22\n",
       "1  24  26  23  25  23\n",
       "2  27  26  21  25  21\n",
       "3  22  21  21  20  20\n",
       "4  28  25  31  22  23"
      ]
     },
     "execution_count": 28,
     "metadata": {},
     "output_type": "execute_result"
    }
   ],
   "source": [
    "df1 = pd.DataFrame(np.random.randint(20,32, size=(5000,5)),\n",
    "                 columns=['s1','s2','s3','s4','s5'])\n",
    "df2 = pd.DataFrame(np.random.randint(33,39, size=(5000,5)),\n",
    "                 columns=['s1','s2','s3','s4','s5'])\n",
    "df3 = pd.DataFrame(np.random.randint(40,49, size=(5000,5)),\n",
    "                 columns=['s1','s2','s3','s4','s5'])\n",
    "df4 = pd.DataFrame(np.random.randint(50,59, size=(5000,5)),\n",
    "                 columns=['s1','s2','s3','s4','s5'])\n",
    "df5 = pd.DataFrame(np.random.randint(60,69, size=(5000,5)),\n",
    "                 columns=['s1','s2','s3','s4','s5'])\n",
    "df6 = pd.DataFrame(np.random.randint(70,79, size=(5000,5)),\n",
    "                 columns=['s1','s2','s3','s4','s5'])\n",
    "df7 = pd.DataFrame(np.random.randint(80,100, size=(5000,5)),\n",
    "                 columns=['s1','s2','s3','s4','s5'])\n",
    "\n",
    "df = pd.concat([df1,df2,df3,df4,df5,df6,df7])\n",
    "\n",
    "\n",
    "\n",
    "df.head()"
   ]
  },
  {
   "cell_type": "code",
   "execution_count": 29,
   "id": "245b74dd",
   "metadata": {},
   "outputs": [
    {
     "data": {
      "text/html": [
       "<div>\n",
       "<style scoped>\n",
       "    .dataframe tbody tr th:only-of-type {\n",
       "        vertical-align: middle;\n",
       "    }\n",
       "\n",
       "    .dataframe tbody tr th {\n",
       "        vertical-align: top;\n",
       "    }\n",
       "\n",
       "    .dataframe thead th {\n",
       "        text-align: right;\n",
       "    }\n",
       "</style>\n",
       "<table border=\"1\" class=\"dataframe\">\n",
       "  <thead>\n",
       "    <tr style=\"text-align: right;\">\n",
       "      <th></th>\n",
       "      <th>s1</th>\n",
       "      <th>s2</th>\n",
       "      <th>s3</th>\n",
       "      <th>s4</th>\n",
       "      <th>s5</th>\n",
       "      <th>obtained</th>\n",
       "    </tr>\n",
       "  </thead>\n",
       "  <tbody>\n",
       "    <tr>\n",
       "      <th>0</th>\n",
       "      <td>20</td>\n",
       "      <td>25</td>\n",
       "      <td>22</td>\n",
       "      <td>31</td>\n",
       "      <td>22</td>\n",
       "      <td>120</td>\n",
       "    </tr>\n",
       "    <tr>\n",
       "      <th>1</th>\n",
       "      <td>24</td>\n",
       "      <td>26</td>\n",
       "      <td>23</td>\n",
       "      <td>25</td>\n",
       "      <td>23</td>\n",
       "      <td>121</td>\n",
       "    </tr>\n",
       "    <tr>\n",
       "      <th>2</th>\n",
       "      <td>27</td>\n",
       "      <td>26</td>\n",
       "      <td>21</td>\n",
       "      <td>25</td>\n",
       "      <td>21</td>\n",
       "      <td>120</td>\n",
       "    </tr>\n",
       "    <tr>\n",
       "      <th>3</th>\n",
       "      <td>22</td>\n",
       "      <td>21</td>\n",
       "      <td>21</td>\n",
       "      <td>20</td>\n",
       "      <td>20</td>\n",
       "      <td>104</td>\n",
       "    </tr>\n",
       "    <tr>\n",
       "      <th>4</th>\n",
       "      <td>28</td>\n",
       "      <td>25</td>\n",
       "      <td>31</td>\n",
       "      <td>22</td>\n",
       "      <td>23</td>\n",
       "      <td>129</td>\n",
       "    </tr>\n",
       "  </tbody>\n",
       "</table>\n",
       "</div>"
      ],
      "text/plain": [
       "   s1  s2  s3  s4  s5  obtained\n",
       "0  20  25  22  31  22       120\n",
       "1  24  26  23  25  23       121\n",
       "2  27  26  21  25  21       120\n",
       "3  22  21  21  20  20       104\n",
       "4  28  25  31  22  23       129"
      ]
     },
     "execution_count": 29,
     "metadata": {},
     "output_type": "execute_result"
    }
   ],
   "source": [
    "df['obtained'] = df.s1 + df.s2 + df.s3 + df.s4 + df.s5\n",
    "df.head()"
   ]
  },
  {
   "cell_type": "code",
   "execution_count": 30,
   "id": "adaae6c4",
   "metadata": {},
   "outputs": [
    {
     "data": {
      "text/html": [
       "<div>\n",
       "<style scoped>\n",
       "    .dataframe tbody tr th:only-of-type {\n",
       "        vertical-align: middle;\n",
       "    }\n",
       "\n",
       "    .dataframe tbody tr th {\n",
       "        vertical-align: top;\n",
       "    }\n",
       "\n",
       "    .dataframe thead th {\n",
       "        text-align: right;\n",
       "    }\n",
       "</style>\n",
       "<table border=\"1\" class=\"dataframe\">\n",
       "  <thead>\n",
       "    <tr style=\"text-align: right;\">\n",
       "      <th></th>\n",
       "      <th>s1</th>\n",
       "      <th>s2</th>\n",
       "      <th>s3</th>\n",
       "      <th>s4</th>\n",
       "      <th>s5</th>\n",
       "      <th>obtained</th>\n",
       "      <th>percentage</th>\n",
       "    </tr>\n",
       "  </thead>\n",
       "  <tbody>\n",
       "    <tr>\n",
       "      <th>0</th>\n",
       "      <td>20</td>\n",
       "      <td>25</td>\n",
       "      <td>22</td>\n",
       "      <td>31</td>\n",
       "      <td>22</td>\n",
       "      <td>120</td>\n",
       "      <td>24.0</td>\n",
       "    </tr>\n",
       "    <tr>\n",
       "      <th>1</th>\n",
       "      <td>24</td>\n",
       "      <td>26</td>\n",
       "      <td>23</td>\n",
       "      <td>25</td>\n",
       "      <td>23</td>\n",
       "      <td>121</td>\n",
       "      <td>24.2</td>\n",
       "    </tr>\n",
       "    <tr>\n",
       "      <th>2</th>\n",
       "      <td>27</td>\n",
       "      <td>26</td>\n",
       "      <td>21</td>\n",
       "      <td>25</td>\n",
       "      <td>21</td>\n",
       "      <td>120</td>\n",
       "      <td>24.0</td>\n",
       "    </tr>\n",
       "    <tr>\n",
       "      <th>3</th>\n",
       "      <td>22</td>\n",
       "      <td>21</td>\n",
       "      <td>21</td>\n",
       "      <td>20</td>\n",
       "      <td>20</td>\n",
       "      <td>104</td>\n",
       "      <td>20.8</td>\n",
       "    </tr>\n",
       "    <tr>\n",
       "      <th>4</th>\n",
       "      <td>28</td>\n",
       "      <td>25</td>\n",
       "      <td>31</td>\n",
       "      <td>22</td>\n",
       "      <td>23</td>\n",
       "      <td>129</td>\n",
       "      <td>25.8</td>\n",
       "    </tr>\n",
       "  </tbody>\n",
       "</table>\n",
       "</div>"
      ],
      "text/plain": [
       "   s1  s2  s3  s4  s5  obtained  percentage\n",
       "0  20  25  22  31  22       120        24.0\n",
       "1  24  26  23  25  23       121        24.2\n",
       "2  27  26  21  25  21       120        24.0\n",
       "3  22  21  21  20  20       104        20.8\n",
       "4  28  25  31  22  23       129        25.8"
      ]
     },
     "execution_count": 30,
     "metadata": {},
     "output_type": "execute_result"
    }
   ],
   "source": [
    "df['percentage'] = df.obtained / 500 * 100\n",
    "df.head()"
   ]
  },
  {
   "cell_type": "markdown",
   "id": "c1ed1738",
   "metadata": {},
   "source": [
    "## Apply Symbolic AI, Classical programming, traditional programming, Rules Based programming\n",
    "* Rules always define by programmer\n",
    "* Rules + Input = Output"
   ]
  },
  {
   "cell_type": "code",
   "execution_count": 31,
   "id": "85293f42",
   "metadata": {},
   "outputs": [
    {
     "data": {
      "text/html": [
       "<div>\n",
       "<style scoped>\n",
       "    .dataframe tbody tr th:only-of-type {\n",
       "        vertical-align: middle;\n",
       "    }\n",
       "\n",
       "    .dataframe tbody tr th {\n",
       "        vertical-align: top;\n",
       "    }\n",
       "\n",
       "    .dataframe thead th {\n",
       "        text-align: right;\n",
       "    }\n",
       "</style>\n",
       "<table border=\"1\" class=\"dataframe\">\n",
       "  <thead>\n",
       "    <tr style=\"text-align: right;\">\n",
       "      <th></th>\n",
       "      <th>s1</th>\n",
       "      <th>s2</th>\n",
       "      <th>s3</th>\n",
       "      <th>s4</th>\n",
       "      <th>s5</th>\n",
       "      <th>obtained</th>\n",
       "      <th>percentage</th>\n",
       "      <th>Grade</th>\n",
       "    </tr>\n",
       "  </thead>\n",
       "  <tbody>\n",
       "    <tr>\n",
       "      <th>0</th>\n",
       "      <td>20</td>\n",
       "      <td>25</td>\n",
       "      <td>22</td>\n",
       "      <td>31</td>\n",
       "      <td>22</td>\n",
       "      <td>120</td>\n",
       "      <td>24.0</td>\n",
       "      <td>F</td>\n",
       "    </tr>\n",
       "    <tr>\n",
       "      <th>1</th>\n",
       "      <td>24</td>\n",
       "      <td>26</td>\n",
       "      <td>23</td>\n",
       "      <td>25</td>\n",
       "      <td>23</td>\n",
       "      <td>121</td>\n",
       "      <td>24.2</td>\n",
       "      <td>F</td>\n",
       "    </tr>\n",
       "    <tr>\n",
       "      <th>2</th>\n",
       "      <td>27</td>\n",
       "      <td>26</td>\n",
       "      <td>21</td>\n",
       "      <td>25</td>\n",
       "      <td>21</td>\n",
       "      <td>120</td>\n",
       "      <td>24.0</td>\n",
       "      <td>F</td>\n",
       "    </tr>\n",
       "    <tr>\n",
       "      <th>3</th>\n",
       "      <td>22</td>\n",
       "      <td>21</td>\n",
       "      <td>21</td>\n",
       "      <td>20</td>\n",
       "      <td>20</td>\n",
       "      <td>104</td>\n",
       "      <td>20.8</td>\n",
       "      <td>F</td>\n",
       "    </tr>\n",
       "    <tr>\n",
       "      <th>4</th>\n",
       "      <td>28</td>\n",
       "      <td>25</td>\n",
       "      <td>31</td>\n",
       "      <td>22</td>\n",
       "      <td>23</td>\n",
       "      <td>129</td>\n",
       "      <td>25.8</td>\n",
       "      <td>F</td>\n",
       "    </tr>\n",
       "  </tbody>\n",
       "</table>\n",
       "</div>"
      ],
      "text/plain": [
       "   s1  s2  s3  s4  s5  obtained  percentage Grade\n",
       "0  20  25  22  31  22       120        24.0     F\n",
       "1  24  26  23  25  23       121        24.2     F\n",
       "2  27  26  21  25  21       120        24.0     F\n",
       "3  22  21  21  20  20       104        20.8     F\n",
       "4  28  25  31  22  23       129        25.8     F"
      ]
     },
     "execution_count": 31,
     "metadata": {},
     "output_type": "execute_result"
    }
   ],
   "source": [
    "def grade(x):\n",
    "    if x >= 80:\n",
    "        return \"A+\"\n",
    "    elif x >= 70:\n",
    "        return \"A\"\n",
    "    elif x >= 60:\n",
    "        return \"B\"\n",
    "    elif x >= 50:\n",
    "        return \"C\"\n",
    "    elif x >= 40:\n",
    "        return \"D\"\n",
    "    elif x >= 33:\n",
    "        return \"E\"\n",
    "    else:\n",
    "        return \"F\"\n",
    "    \n",
    "df['Grade'] = df.percentage.apply(grade)\n",
    "df.head()"
   ]
  },
  {
   "cell_type": "code",
   "execution_count": 32,
   "id": "68f76418",
   "metadata": {},
   "outputs": [
    {
     "data": {
      "text/plain": [
       "F     5000\n",
       "B     5000\n",
       "A+    5000\n",
       "D     5000\n",
       "E     5000\n",
       "C     5000\n",
       "A     5000\n",
       "Name: Grade, dtype: int64"
      ]
     },
     "execution_count": 32,
     "metadata": {},
     "output_type": "execute_result"
    }
   ],
   "source": [
    "df.Grade.value_counts()"
   ]
  },
  {
   "cell_type": "code",
   "execution_count": 33,
   "id": "41a30931",
   "metadata": {},
   "outputs": [
    {
     "data": {
      "text/plain": [
       "<AxesSubplot:>"
      ]
     },
     "execution_count": 33,
     "metadata": {},
     "output_type": "execute_result"
    },
    {
     "data": {
      "image/png": "[encoded data removed]",
      "text/plain": [
       "<Figure size 432x288 with 1 Axes>"
      ]
     },
     "metadata": {
      "needs_background": "light"
     },
     "output_type": "display_data"
    }
   ],
   "source": [
    "df.corr().plot(kind='bar')"
   ]
  },
  {
   "cell_type": "code",
   "execution_count": 34,
   "id": "09438710",
   "metadata": {},
   "outputs": [
    {
     "data": {
      "text/html": [
       "<div>\n",
       "<style scoped>\n",
       "    .dataframe tbody tr th:only-of-type {\n",
       "        vertical-align: middle;\n",
       "    }\n",
       "\n",
       "    .dataframe tbody tr th {\n",
       "        vertical-align: top;\n",
       "    }\n",
       "\n",
       "    .dataframe thead th {\n",
       "        text-align: right;\n",
       "    }\n",
       "</style>\n",
       "<table border=\"1\" class=\"dataframe\">\n",
       "  <thead>\n",
       "    <tr style=\"text-align: right;\">\n",
       "      <th></th>\n",
       "      <th>s1</th>\n",
       "      <th>s2</th>\n",
       "      <th>s3</th>\n",
       "      <th>s4</th>\n",
       "      <th>s5</th>\n",
       "      <th>obtained</th>\n",
       "      <th>percentage</th>\n",
       "      <th>Grade</th>\n",
       "      <th>Grade1</th>\n",
       "    </tr>\n",
       "  </thead>\n",
       "  <tbody>\n",
       "    <tr>\n",
       "      <th>0</th>\n",
       "      <td>20</td>\n",
       "      <td>25</td>\n",
       "      <td>22</td>\n",
       "      <td>31</td>\n",
       "      <td>22</td>\n",
       "      <td>120</td>\n",
       "      <td>24.0</td>\n",
       "      <td>F</td>\n",
       "      <td>7</td>\n",
       "    </tr>\n",
       "    <tr>\n",
       "      <th>1</th>\n",
       "      <td>24</td>\n",
       "      <td>26</td>\n",
       "      <td>23</td>\n",
       "      <td>25</td>\n",
       "      <td>23</td>\n",
       "      <td>121</td>\n",
       "      <td>24.2</td>\n",
       "      <td>F</td>\n",
       "      <td>7</td>\n",
       "    </tr>\n",
       "    <tr>\n",
       "      <th>2</th>\n",
       "      <td>27</td>\n",
       "      <td>26</td>\n",
       "      <td>21</td>\n",
       "      <td>25</td>\n",
       "      <td>21</td>\n",
       "      <td>120</td>\n",
       "      <td>24.0</td>\n",
       "      <td>F</td>\n",
       "      <td>7</td>\n",
       "    </tr>\n",
       "    <tr>\n",
       "      <th>3</th>\n",
       "      <td>22</td>\n",
       "      <td>21</td>\n",
       "      <td>21</td>\n",
       "      <td>20</td>\n",
       "      <td>20</td>\n",
       "      <td>104</td>\n",
       "      <td>20.8</td>\n",
       "      <td>F</td>\n",
       "      <td>7</td>\n",
       "    </tr>\n",
       "    <tr>\n",
       "      <th>4</th>\n",
       "      <td>28</td>\n",
       "      <td>25</td>\n",
       "      <td>31</td>\n",
       "      <td>22</td>\n",
       "      <td>23</td>\n",
       "      <td>129</td>\n",
       "      <td>25.8</td>\n",
       "      <td>F</td>\n",
       "      <td>7</td>\n",
       "    </tr>\n",
       "  </tbody>\n",
       "</table>\n",
       "</div>"
      ],
      "text/plain": [
       "   s1  s2  s3  s4  s5  obtained  percentage Grade  Grade1\n",
       "0  20  25  22  31  22       120        24.0     F       7\n",
       "1  24  26  23  25  23       121        24.2     F       7\n",
       "2  27  26  21  25  21       120        24.0     F       7\n",
       "3  22  21  21  20  20       104        20.8     F       7\n",
       "4  28  25  31  22  23       129        25.8     F       7"
      ]
     },
     "execution_count": 34,
     "metadata": {},
     "output_type": "execute_result"
    }
   ],
   "source": [
    "dic = {\n",
    "    'F':7,\n",
    "    \"E\":6,\n",
    "    \"D\":5,\n",
    "    \"C\":4,\n",
    "    \"B\":3,\n",
    "    \"A\":2,\n",
    "    \"A+\":1\n",
    "}\n",
    "df['Grade1'] = df.Grade.map(dic)\n",
    "df.head()"
   ]
  },
  {
   "cell_type": "code",
   "execution_count": 35,
   "id": "64fc9aa4",
   "metadata": {},
   "outputs": [
    {
     "data": {
      "text/plain": [
       "<AxesSubplot:>"
      ]
     },
     "execution_count": 35,
     "metadata": {},
     "output_type": "execute_result"
    },
    {
     "data": {
      "image/png": "[encoded data removed]",
      "text/plain": [
       "<Figure size 432x288 with 1 Axes>"
      ]
     },
     "metadata": {
      "needs_background": "light"
     },
     "output_type": "display_data"
    }
   ],
   "source": [
    "df.corr().plot(kind='bar')"
   ]
  },
  {
   "cell_type": "markdown",
   "id": "b2072f5b",
   "metadata": {},
   "source": [
    "## Find Grades(Rules) with Deep Learning\n",
    "* input + Output = Rules"
   ]
  },
  {
   "cell_type": "code",
   "execution_count": 36,
   "id": "caf1d1c7",
   "metadata": {},
   "outputs": [
    {
     "data": {
      "text/html": [
       "<div>\n",
       "<style scoped>\n",
       "    .dataframe tbody tr th:only-of-type {\n",
       "        vertical-align: middle;\n",
       "    }\n",
       "\n",
       "    .dataframe tbody tr th {\n",
       "        vertical-align: top;\n",
       "    }\n",
       "\n",
       "    .dataframe thead th {\n",
       "        text-align: right;\n",
       "    }\n",
       "</style>\n",
       "<table border=\"1\" class=\"dataframe\">\n",
       "  <thead>\n",
       "    <tr style=\"text-align: right;\">\n",
       "      <th></th>\n",
       "      <th>s1</th>\n",
       "      <th>s2</th>\n",
       "      <th>s3</th>\n",
       "      <th>s4</th>\n",
       "      <th>s5</th>\n",
       "      <th>Grade</th>\n",
       "    </tr>\n",
       "  </thead>\n",
       "  <tbody>\n",
       "    <tr>\n",
       "      <th>394</th>\n",
       "      <td>35</td>\n",
       "      <td>34</td>\n",
       "      <td>35</td>\n",
       "      <td>34</td>\n",
       "      <td>33</td>\n",
       "      <td>E</td>\n",
       "    </tr>\n",
       "    <tr>\n",
       "      <th>4184</th>\n",
       "      <td>56</td>\n",
       "      <td>54</td>\n",
       "      <td>51</td>\n",
       "      <td>56</td>\n",
       "      <td>58</td>\n",
       "      <td>C</td>\n",
       "    </tr>\n",
       "    <tr>\n",
       "      <th>138</th>\n",
       "      <td>41</td>\n",
       "      <td>43</td>\n",
       "      <td>42</td>\n",
       "      <td>44</td>\n",
       "      <td>43</td>\n",
       "      <td>D</td>\n",
       "    </tr>\n",
       "    <tr>\n",
       "      <th>4913</th>\n",
       "      <td>28</td>\n",
       "      <td>25</td>\n",
       "      <td>28</td>\n",
       "      <td>22</td>\n",
       "      <td>25</td>\n",
       "      <td>F</td>\n",
       "    </tr>\n",
       "    <tr>\n",
       "      <th>2247</th>\n",
       "      <td>37</td>\n",
       "      <td>34</td>\n",
       "      <td>34</td>\n",
       "      <td>35</td>\n",
       "      <td>38</td>\n",
       "      <td>E</td>\n",
       "    </tr>\n",
       "    <tr>\n",
       "      <th>...</th>\n",
       "      <td>...</td>\n",
       "      <td>...</td>\n",
       "      <td>...</td>\n",
       "      <td>...</td>\n",
       "      <td>...</td>\n",
       "      <td>...</td>\n",
       "    </tr>\n",
       "    <tr>\n",
       "      <th>191</th>\n",
       "      <td>95</td>\n",
       "      <td>83</td>\n",
       "      <td>95</td>\n",
       "      <td>97</td>\n",
       "      <td>81</td>\n",
       "      <td>A+</td>\n",
       "    </tr>\n",
       "    <tr>\n",
       "      <th>67</th>\n",
       "      <td>36</td>\n",
       "      <td>35</td>\n",
       "      <td>38</td>\n",
       "      <td>35</td>\n",
       "      <td>34</td>\n",
       "      <td>E</td>\n",
       "    </tr>\n",
       "    <tr>\n",
       "      <th>1751</th>\n",
       "      <td>64</td>\n",
       "      <td>65</td>\n",
       "      <td>62</td>\n",
       "      <td>61</td>\n",
       "      <td>67</td>\n",
       "      <td>B</td>\n",
       "    </tr>\n",
       "    <tr>\n",
       "      <th>4030</th>\n",
       "      <td>54</td>\n",
       "      <td>56</td>\n",
       "      <td>56</td>\n",
       "      <td>53</td>\n",
       "      <td>50</td>\n",
       "      <td>C</td>\n",
       "    </tr>\n",
       "    <tr>\n",
       "      <th>3681</th>\n",
       "      <td>68</td>\n",
       "      <td>63</td>\n",
       "      <td>65</td>\n",
       "      <td>68</td>\n",
       "      <td>68</td>\n",
       "      <td>B</td>\n",
       "    </tr>\n",
       "  </tbody>\n",
       "</table>\n",
       "<p>35000 rows × 6 columns</p>\n",
       "</div>"
      ],
      "text/plain": [
       "      s1  s2  s3  s4  s5 Grade\n",
       "394   35  34  35  34  33     E\n",
       "4184  56  54  51  56  58     C\n",
       "138   41  43  42  44  43     D\n",
       "4913  28  25  28  22  25     F\n",
       "2247  37  34  34  35  38     E\n",
       "...   ..  ..  ..  ..  ..   ...\n",
       "191   95  83  95  97  81    A+\n",
       "67    36  35  38  35  34     E\n",
       "1751  64  65  62  61  67     B\n",
       "4030  54  56  56  53  50     C\n",
       "3681  68  63  65  68  68     B\n",
       "\n",
       "[35000 rows x 6 columns]"
      ]
     },
     "execution_count": 36,
     "metadata": {},
     "output_type": "execute_result"
    }
   ],
   "source": [
    "df1 = df[['s1', 's2', 's3', 's4', 's5', 'Grade']]\n",
    "df1.head(2)\n",
    "df1 = df1.sample(frac=1)\n",
    "df1"
   ]
  },
  {
   "cell_type": "code",
   "execution_count": 37,
   "id": "a6b832c5",
   "metadata": {},
   "outputs": [
    {
     "data": {
      "text/html": [
       "<div>\n",
       "<style scoped>\n",
       "    .dataframe tbody tr th:only-of-type {\n",
       "        vertical-align: middle;\n",
       "    }\n",
       "\n",
       "    .dataframe tbody tr th {\n",
       "        vertical-align: top;\n",
       "    }\n",
       "\n",
       "    .dataframe thead th {\n",
       "        text-align: right;\n",
       "    }\n",
       "</style>\n",
       "<table border=\"1\" class=\"dataframe\">\n",
       "  <thead>\n",
       "    <tr style=\"text-align: right;\">\n",
       "      <th></th>\n",
       "      <th>s1</th>\n",
       "      <th>s2</th>\n",
       "      <th>s3</th>\n",
       "      <th>s4</th>\n",
       "      <th>s5</th>\n",
       "    </tr>\n",
       "  </thead>\n",
       "  <tbody>\n",
       "    <tr>\n",
       "      <th>394</th>\n",
       "      <td>35</td>\n",
       "      <td>34</td>\n",
       "      <td>35</td>\n",
       "      <td>34</td>\n",
       "      <td>33</td>\n",
       "    </tr>\n",
       "    <tr>\n",
       "      <th>4184</th>\n",
       "      <td>56</td>\n",
       "      <td>54</td>\n",
       "      <td>51</td>\n",
       "      <td>56</td>\n",
       "      <td>58</td>\n",
       "    </tr>\n",
       "    <tr>\n",
       "      <th>138</th>\n",
       "      <td>41</td>\n",
       "      <td>43</td>\n",
       "      <td>42</td>\n",
       "      <td>44</td>\n",
       "      <td>43</td>\n",
       "    </tr>\n",
       "    <tr>\n",
       "      <th>4913</th>\n",
       "      <td>28</td>\n",
       "      <td>25</td>\n",
       "      <td>28</td>\n",
       "      <td>22</td>\n",
       "      <td>25</td>\n",
       "    </tr>\n",
       "    <tr>\n",
       "      <th>2247</th>\n",
       "      <td>37</td>\n",
       "      <td>34</td>\n",
       "      <td>34</td>\n",
       "      <td>35</td>\n",
       "      <td>38</td>\n",
       "    </tr>\n",
       "  </tbody>\n",
       "</table>\n",
       "</div>"
      ],
      "text/plain": [
       "      s1  s2  s3  s4  s5\n",
       "394   35  34  35  34  33\n",
       "4184  56  54  51  56  58\n",
       "138   41  43  42  44  43\n",
       "4913  28  25  28  22  25\n",
       "2247  37  34  34  35  38"
      ]
     },
     "execution_count": 37,
     "metadata": {},
     "output_type": "execute_result"
    }
   ],
   "source": [
    "X = df1.loc[:, 's1':'s5']\n",
    "X.head()"
   ]
  },
  {
   "cell_type": "code",
   "execution_count": 38,
   "id": "d833b0a8",
   "metadata": {},
   "outputs": [
    {
     "data": {
      "text/html": [
       "<div>\n",
       "<style scoped>\n",
       "    .dataframe tbody tr th:only-of-type {\n",
       "        vertical-align: middle;\n",
       "    }\n",
       "\n",
       "    .dataframe tbody tr th {\n",
       "        vertical-align: top;\n",
       "    }\n",
       "\n",
       "    .dataframe thead th {\n",
       "        text-align: right;\n",
       "    }\n",
       "</style>\n",
       "<table border=\"1\" class=\"dataframe\">\n",
       "  <thead>\n",
       "    <tr style=\"text-align: right;\">\n",
       "      <th></th>\n",
       "      <th>Grade</th>\n",
       "    </tr>\n",
       "  </thead>\n",
       "  <tbody>\n",
       "    <tr>\n",
       "      <th>394</th>\n",
       "      <td>E</td>\n",
       "    </tr>\n",
       "    <tr>\n",
       "      <th>4184</th>\n",
       "      <td>C</td>\n",
       "    </tr>\n",
       "    <tr>\n",
       "      <th>138</th>\n",
       "      <td>D</td>\n",
       "    </tr>\n",
       "    <tr>\n",
       "      <th>4913</th>\n",
       "      <td>F</td>\n",
       "    </tr>\n",
       "    <tr>\n",
       "      <th>2247</th>\n",
       "      <td>E</td>\n",
       "    </tr>\n",
       "  </tbody>\n",
       "</table>\n",
       "</div>"
      ],
      "text/plain": [
       "     Grade\n",
       "394      E\n",
       "4184     C\n",
       "138      D\n",
       "4913     F\n",
       "2247     E"
      ]
     },
     "execution_count": 38,
     "metadata": {},
     "output_type": "execute_result"
    }
   ],
   "source": [
    "Y = df1[['Grade']]\n",
    "Y.head()"
   ]
  },
  {
   "cell_type": "markdown",
   "id": "7fbc9579",
   "metadata": {},
   "source": [
    "## Vectorization to Y\n",
    "* one-hot-encoding"
   ]
  },
  {
   "cell_type": "code",
   "execution_count": 39,
   "id": "d82d67c4",
   "metadata": {},
   "outputs": [
    {
     "data": {
      "text/html": [
       "<div>\n",
       "<style scoped>\n",
       "    .dataframe tbody tr th:only-of-type {\n",
       "        vertical-align: middle;\n",
       "    }\n",
       "\n",
       "    .dataframe tbody tr th {\n",
       "        vertical-align: top;\n",
       "    }\n",
       "\n",
       "    .dataframe thead th {\n",
       "        text-align: right;\n",
       "    }\n",
       "</style>\n",
       "<table border=\"1\" class=\"dataframe\">\n",
       "  <thead>\n",
       "    <tr style=\"text-align: right;\">\n",
       "      <th></th>\n",
       "      <th>A</th>\n",
       "      <th>A+</th>\n",
       "      <th>B</th>\n",
       "      <th>C</th>\n",
       "      <th>D</th>\n",
       "      <th>E</th>\n",
       "      <th>F</th>\n",
       "    </tr>\n",
       "  </thead>\n",
       "  <tbody>\n",
       "    <tr>\n",
       "      <th>394</th>\n",
       "      <td>0</td>\n",
       "      <td>0</td>\n",
       "      <td>0</td>\n",
       "      <td>0</td>\n",
       "      <td>0</td>\n",
       "      <td>1</td>\n",
       "      <td>0</td>\n",
       "    </tr>\n",
       "    <tr>\n",
       "      <th>4184</th>\n",
       "      <td>0</td>\n",
       "      <td>0</td>\n",
       "      <td>0</td>\n",
       "      <td>1</td>\n",
       "      <td>0</td>\n",
       "      <td>0</td>\n",
       "      <td>0</td>\n",
       "    </tr>\n",
       "    <tr>\n",
       "      <th>138</th>\n",
       "      <td>0</td>\n",
       "      <td>0</td>\n",
       "      <td>0</td>\n",
       "      <td>0</td>\n",
       "      <td>1</td>\n",
       "      <td>0</td>\n",
       "      <td>0</td>\n",
       "    </tr>\n",
       "    <tr>\n",
       "      <th>4913</th>\n",
       "      <td>0</td>\n",
       "      <td>0</td>\n",
       "      <td>0</td>\n",
       "      <td>0</td>\n",
       "      <td>0</td>\n",
       "      <td>0</td>\n",
       "      <td>1</td>\n",
       "    </tr>\n",
       "    <tr>\n",
       "      <th>2247</th>\n",
       "      <td>0</td>\n",
       "      <td>0</td>\n",
       "      <td>0</td>\n",
       "      <td>0</td>\n",
       "      <td>0</td>\n",
       "      <td>1</td>\n",
       "      <td>0</td>\n",
       "    </tr>\n",
       "  </tbody>\n",
       "</table>\n",
       "</div>"
      ],
      "text/plain": [
       "      A  A+  B  C  D  E  F\n",
       "394   0   0  0  0  0  1  0\n",
       "4184  0   0  0  1  0  0  0\n",
       "138   0   0  0  0  1  0  0\n",
       "4913  0   0  0  0  0  0  1\n",
       "2247  0   0  0  0  0  1  0"
      ]
     },
     "execution_count": 39,
     "metadata": {},
     "output_type": "execute_result"
    }
   ],
   "source": [
    "Y = df1['Grade']\n",
    "Y = pd.get_dummies(Y)\n",
    "Y.head()"
   ]
  },
  {
   "cell_type": "code",
   "execution_count": 40,
   "id": "4d25f670",
   "metadata": {},
   "outputs": [
    {
     "data": {
      "text/html": [
       "<div>\n",
       "<style scoped>\n",
       "    .dataframe tbody tr th:only-of-type {\n",
       "        vertical-align: middle;\n",
       "    }\n",
       "\n",
       "    .dataframe tbody tr th {\n",
       "        vertical-align: top;\n",
       "    }\n",
       "\n",
       "    .dataframe thead th {\n",
       "        text-align: right;\n",
       "    }\n",
       "</style>\n",
       "<table border=\"1\" class=\"dataframe\">\n",
       "  <thead>\n",
       "    <tr style=\"text-align: right;\">\n",
       "      <th></th>\n",
       "      <th>A</th>\n",
       "      <th>A+</th>\n",
       "      <th>B</th>\n",
       "      <th>C</th>\n",
       "      <th>D</th>\n",
       "      <th>E</th>\n",
       "      <th>F</th>\n",
       "    </tr>\n",
       "  </thead>\n",
       "  <tbody>\n",
       "    <tr>\n",
       "      <th>394</th>\n",
       "      <td>0</td>\n",
       "      <td>0</td>\n",
       "      <td>0</td>\n",
       "      <td>0</td>\n",
       "      <td>0</td>\n",
       "      <td>1</td>\n",
       "      <td>0</td>\n",
       "    </tr>\n",
       "    <tr>\n",
       "      <th>4184</th>\n",
       "      <td>0</td>\n",
       "      <td>0</td>\n",
       "      <td>0</td>\n",
       "      <td>1</td>\n",
       "      <td>0</td>\n",
       "      <td>0</td>\n",
       "      <td>0</td>\n",
       "    </tr>\n",
       "    <tr>\n",
       "      <th>138</th>\n",
       "      <td>0</td>\n",
       "      <td>0</td>\n",
       "      <td>0</td>\n",
       "      <td>0</td>\n",
       "      <td>1</td>\n",
       "      <td>0</td>\n",
       "      <td>0</td>\n",
       "    </tr>\n",
       "    <tr>\n",
       "      <th>4913</th>\n",
       "      <td>0</td>\n",
       "      <td>0</td>\n",
       "      <td>0</td>\n",
       "      <td>0</td>\n",
       "      <td>0</td>\n",
       "      <td>0</td>\n",
       "      <td>1</td>\n",
       "    </tr>\n",
       "    <tr>\n",
       "      <th>552</th>\n",
       "      <td>0</td>\n",
       "      <td>1</td>\n",
       "      <td>0</td>\n",
       "      <td>0</td>\n",
       "      <td>0</td>\n",
       "      <td>0</td>\n",
       "      <td>0</td>\n",
       "    </tr>\n",
       "    <tr>\n",
       "      <th>4346</th>\n",
       "      <td>0</td>\n",
       "      <td>0</td>\n",
       "      <td>1</td>\n",
       "      <td>0</td>\n",
       "      <td>0</td>\n",
       "      <td>0</td>\n",
       "      <td>0</td>\n",
       "    </tr>\n",
       "    <tr>\n",
       "      <th>4647</th>\n",
       "      <td>1</td>\n",
       "      <td>0</td>\n",
       "      <td>0</td>\n",
       "      <td>0</td>\n",
       "      <td>0</td>\n",
       "      <td>0</td>\n",
       "      <td>0</td>\n",
       "    </tr>\n",
       "  </tbody>\n",
       "</table>\n",
       "</div>"
      ],
      "text/plain": [
       "      A  A+  B  C  D  E  F\n",
       "394   0   0  0  0  0  1  0\n",
       "4184  0   0  0  1  0  0  0\n",
       "138   0   0  0  0  1  0  0\n",
       "4913  0   0  0  0  0  0  1\n",
       "552   0   1  0  0  0  0  0\n",
       "4346  0   0  1  0  0  0  0\n",
       "4647  1   0  0  0  0  0  0"
      ]
     },
     "execution_count": 40,
     "metadata": {},
     "output_type": "execute_result"
    }
   ],
   "source": [
    "Y.drop_duplicates()"
   ]
  },
  {
   "cell_type": "markdown",
   "id": "a39a6b30",
   "metadata": {},
   "source": [
    "<img src = 'https://i0.wp.com/semiengineering.com/wp-content/uploads/2018/01/MLvsDL.png?ssl=1'>"
   ]
  },
  {
   "cell_type": "markdown",
   "id": "5de814f5",
   "metadata": {},
   "source": [
    "Import some fundamental libraries"
   ]
  },
  {
   "cell_type": "code",
   "execution_count": 41,
   "id": "08e868c9",
   "metadata": {},
   "outputs": [],
   "source": [
    "from tensorflow.keras.models import Sequential\n",
    "from tensorflow.keras.layers import Dense\n",
    "from tensorflow.keras.optimizers import Adam, SGD"
   ]
  },
  {
   "cell_type": "markdown",
   "id": "2db5801c",
   "metadata": {},
   "source": [
    "Create your model network structure\n",
    "\n",
    "* first-layer (input_shape = X.no_of_columns)\n",
    "* last-layers (output=Y.unique_labels(unique classes))\n",
    "  * activation = according to your problems (4.6)\n",
    "* Dense(output)"
   ]
  },
  {
   "cell_type": "markdown",
   "id": "cf27b71f",
   "metadata": {},
   "source": [
    "### Model Structure"
   ]
  },
  {
   "cell_type": "code",
   "execution_count": 42,
   "id": "2111cc01",
   "metadata": {},
   "outputs": [],
   "source": [
    "model = Sequential()\n",
    "model.add(Dense(32, activation = 'relu', input_shape = (5,)))\n",
    "model.add(Dense(16, activation = 'relu'))\n",
    "model.add(Dense(7, activation = 'softmax')) # output layers = output equal number unique classes\n",
    "                                            # last layer->activation function= directly connect with your problem "
   ]
  },
  {
   "cell_type": "code",
   "execution_count": 43,
   "id": "bc925aa4",
   "metadata": {},
   "outputs": [
    {
     "name": "stdout",
     "output_type": "stream",
     "text": [
      "Model: \"sequential_2\"\n",
      "_________________________________________________________________\n",
      " Layer (type)                Output Shape              Param #   \n",
      "=================================================================\n",
      " dense_3 (Dense)             (None, 32)                192       \n",
      "                                                                 \n",
      " dense_4 (Dense)             (None, 16)                528       \n",
      "                                                                 \n",
      " dense_5 (Dense)             (None, 7)                 119       \n",
      "                                                                 \n",
      "=================================================================\n",
      "Total params: 839\n",
      "Trainable params: 839\n",
      "Non-trainable params: 0\n",
      "_________________________________________________________________\n"
     ]
    }
   ],
   "source": [
    "model.summary()"
   ]
  },
  {
   "cell_type": "markdown",
   "id": "4bb3e0fe",
   "metadata": {},
   "source": [
    "### Set compilation process"
   ]
  },
  {
   "cell_type": "code",
   "execution_count": 44,
   "id": "69e4a59d",
   "metadata": {},
   "outputs": [
    {
     "name": "stderr",
     "output_type": "stream",
     "text": [
      "WARNING:absl:`lr` is deprecated, please use `learning_rate` instead, or use the legacy optimizer, e.g.,tf.keras.optimizers.legacy.SGD.\n"
     ]
    }
   ],
   "source": [
    "# Select loss function based on your problems\n",
    "\n",
    "model.compile(optimizer=SGD(lr=0.002),\n",
    "             loss='categorical_crossentropy',\n",
    "             metrics=['acc'])"
   ]
  },
  {
   "cell_type": "markdown",
   "id": "6b5fff78",
   "metadata": {},
   "source": [
    "### Now Start Training"
   ]
  },
  {
   "cell_type": "code",
   "execution_count": 49,
   "id": "354bb92b",
   "metadata": {},
   "outputs": [
    {
     "name": "stdout",
     "output_type": "stream",
     "text": [
      "Epoch 1/100\n",
      "1094/1094 [==============================] - 2s 2ms/step - loss: 0.9900 - acc: 0.5949\n",
      "Epoch 2/100\n",
      "1094/1094 [==============================] - 2s 2ms/step - loss: 0.9779 - acc: 0.5984\n",
      "Epoch 3/100\n",
      "1094/1094 [==============================] - 2s 2ms/step - loss: 1.0043 - acc: 0.5912\n",
      "Epoch 4/100\n",
      "1094/1094 [==============================] - 2s 2ms/step - loss: 0.9760 - acc: 0.5881\n",
      "Epoch 5/100\n",
      "1094/1094 [==============================] - 2s 2ms/step - loss: 0.9748 - acc: 0.5871\n",
      "Epoch 6/100\n",
      "1094/1094 [==============================] - 2s 2ms/step - loss: 0.9971 - acc: 0.5719\n",
      "Epoch 7/100\n",
      "1094/1094 [==============================] - 3s 3ms/step - loss: 1.0423 - acc: 0.5708\n",
      "Epoch 8/100\n",
      "1094/1094 [==============================] - 2s 2ms/step - loss: 0.9928 - acc: 0.5893\n",
      "Epoch 9/100\n",
      "1094/1094 [==============================] - 2s 2ms/step - loss: 0.9772 - acc: 0.5945\n",
      "Epoch 10/100\n",
      "1094/1094 [==============================] - 2s 2ms/step - loss: 0.9817 - acc: 0.5847\n",
      "Epoch 11/100\n",
      "1094/1094 [==============================] - 2s 2ms/step - loss: 1.0136 - acc: 0.5679\n",
      "Epoch 12/100\n",
      "1094/1094 [==============================] - 2s 2ms/step - loss: 1.0209 - acc: 0.5607\n",
      "Epoch 13/100\n",
      "1094/1094 [==============================] - 2s 2ms/step - loss: 0.9885 - acc: 0.5831\n",
      "Epoch 14/100\n",
      "1094/1094 [==============================] - 2s 2ms/step - loss: 0.9860 - acc: 0.5841\n",
      "Epoch 15/100\n",
      "1094/1094 [==============================] - 2s 2ms/step - loss: 0.9503 - acc: 0.5973\n",
      "Epoch 16/100\n",
      "1094/1094 [==============================] - 2s 2ms/step - loss: 1.0053 - acc: 0.5721\n",
      "Epoch 17/100\n",
      "1094/1094 [==============================] - 2s 2ms/step - loss: 0.9990 - acc: 0.5809\n",
      "Epoch 18/100\n",
      "1094/1094 [==============================] - 2s 2ms/step - loss: 1.0330 - acc: 0.5610\n",
      "Epoch 19/100\n",
      "1094/1094 [==============================] - 2s 2ms/step - loss: 1.0064 - acc: 0.5677\n",
      "Epoch 20/100\n",
      "1094/1094 [==============================] - 2s 2ms/step - loss: 1.0046 - acc: 0.5826\n",
      "Epoch 21/100\n",
      "1094/1094 [==============================] - 2s 2ms/step - loss: 1.0602 - acc: 0.5539\n",
      "Epoch 22/100\n",
      "1094/1094 [==============================] - 2s 2ms/step - loss: 1.0325 - acc: 0.5713\n",
      "Epoch 23/100\n",
      "1094/1094 [==============================] - 2s 2ms/step - loss: 0.9812 - acc: 0.5927\n",
      "Epoch 24/100\n",
      "1094/1094 [==============================] - 2s 2ms/step - loss: 1.0015 - acc: 0.5735\n",
      "Epoch 25/100\n",
      "1094/1094 [==============================] - 2s 2ms/step - loss: 1.0055 - acc: 0.5623\n",
      "Epoch 26/100\n",
      "1094/1094 [==============================] - 2s 2ms/step - loss: 1.0178 - acc: 0.5773\n",
      "Epoch 27/100\n",
      "1094/1094 [==============================] - 2s 2ms/step - loss: 1.0154 - acc: 0.5625\n",
      "Epoch 28/100\n",
      "1094/1094 [==============================] - 2s 2ms/step - loss: 1.0175 - acc: 0.5817\n",
      "Epoch 29/100\n",
      "1094/1094 [==============================] - 2s 2ms/step - loss: 1.0082 - acc: 0.5827\n",
      "Epoch 30/100\n",
      "1094/1094 [==============================] - 2s 2ms/step - loss: 1.0192 - acc: 0.5728\n",
      "Epoch 31/100\n",
      "1094/1094 [==============================] - 2s 2ms/step - loss: 1.0645 - acc: 0.5714\n",
      "Epoch 32/100\n",
      "1094/1094 [==============================] - 2s 2ms/step - loss: 0.9730 - acc: 0.5791\n",
      "Epoch 33/100\n",
      "1094/1094 [==============================] - 2s 2ms/step - loss: 1.0017 - acc: 0.5762\n",
      "Epoch 34/100\n",
      "1094/1094 [==============================] - 2s 2ms/step - loss: 0.9872 - acc: 0.5899\n",
      "Epoch 35/100\n",
      "1094/1094 [==============================] - 2s 2ms/step - loss: 1.0242 - acc: 0.5703\n",
      "Epoch 36/100\n",
      "1094/1094 [==============================] - 2s 2ms/step - loss: 0.9269 - acc: 0.6103\n",
      "Epoch 37/100\n",
      "1094/1094 [==============================] - 2s 2ms/step - loss: 0.9906 - acc: 0.5856\n",
      "Epoch 38/100\n",
      "1094/1094 [==============================] - 2s 2ms/step - loss: 0.9918 - acc: 0.5918\n",
      "Epoch 39/100\n",
      "1094/1094 [==============================] - 2s 2ms/step - loss: 0.9903 - acc: 0.6060\n",
      "Epoch 40/100\n",
      "1094/1094 [==============================] - 2s 2ms/step - loss: 0.9787 - acc: 0.5907\n",
      "Epoch 41/100\n",
      "1094/1094 [==============================] - 2s 2ms/step - loss: 0.9372 - acc: 0.6010\n",
      "Epoch 42/100\n",
      "1094/1094 [==============================] - 2s 2ms/step - loss: 1.0756 - acc: 0.5756\n",
      "Epoch 43/100\n",
      "1094/1094 [==============================] - 2s 2ms/step - loss: 1.0241 - acc: 0.5847\n",
      "Epoch 44/100\n",
      "1094/1094 [==============================] - 2s 2ms/step - loss: 0.9806 - acc: 0.5945\n",
      "Epoch 45/100\n",
      "1094/1094 [==============================] - 2s 2ms/step - loss: 0.9551 - acc: 0.5997\n",
      "Epoch 46/100\n",
      "1094/1094 [==============================] - 2s 2ms/step - loss: 1.0367 - acc: 0.5752\n",
      "Epoch 47/100\n",
      "1094/1094 [==============================] - 2s 2ms/step - loss: 0.9676 - acc: 0.6174\n",
      "Epoch 48/100\n",
      "1094/1094 [==============================] - 2s 2ms/step - loss: 0.9578 - acc: 0.6215\n",
      "Epoch 49/100\n",
      "1094/1094 [==============================] - 2s 2ms/step - loss: 0.9928 - acc: 0.6034\n",
      "Epoch 50/100\n",
      "1094/1094 [==============================] - 2s 2ms/step - loss: 0.9501 - acc: 0.6031\n",
      "Epoch 51/100\n",
      "1094/1094 [==============================] - 2s 2ms/step - loss: 0.9692 - acc: 0.5969\n",
      "Epoch 52/100\n",
      "1094/1094 [==============================] - 2s 2ms/step - loss: 0.9462 - acc: 0.6108\n",
      "Epoch 53/100\n",
      "1094/1094 [==============================] - 2s 2ms/step - loss: 0.9697 - acc: 0.5990\n",
      "Epoch 54/100\n",
      "1094/1094 [==============================] - 2s 2ms/step - loss: 0.9953 - acc: 0.5882\n",
      "Epoch 55/100\n",
      "1094/1094 [==============================] - 2s 2ms/step - loss: 1.0200 - acc: 0.5781\n",
      "Epoch 56/100\n",
      "1094/1094 [==============================] - 2s 2ms/step - loss: 0.9883 - acc: 0.5981\n",
      "Epoch 57/100\n",
      "1094/1094 [==============================] - 2s 2ms/step - loss: 0.9569 - acc: 0.6017\n",
      "Epoch 58/100\n",
      "1094/1094 [==============================] - 2s 2ms/step - loss: 0.9760 - acc: 0.6094\n",
      "Epoch 59/100\n",
      "1094/1094 [==============================] - 2s 2ms/step - loss: 0.9552 - acc: 0.6087\n",
      "Epoch 60/100\n",
      "1094/1094 [==============================] - 2s 2ms/step - loss: 0.9120 - acc: 0.6268\n",
      "Epoch 61/100\n",
      "1094/1094 [==============================] - 2s 2ms/step - loss: 1.0019 - acc: 0.5961\n",
      "Epoch 62/100\n",
      "1094/1094 [==============================] - 2s 2ms/step - loss: 0.9789 - acc: 0.6031\n",
      "Epoch 63/100\n",
      "1094/1094 [==============================] - 2s 2ms/step - loss: 0.9809 - acc: 0.6169\n",
      "Epoch 64/100\n",
      "1094/1094 [==============================] - 2s 2ms/step - loss: 0.9517 - acc: 0.6209\n",
      "Epoch 65/100\n",
      "1094/1094 [==============================] - 2s 2ms/step - loss: 0.9790 - acc: 0.6110\n",
      "Epoch 66/100\n",
      "1094/1094 [==============================] - 2s 2ms/step - loss: 0.9267 - acc: 0.6223\n",
      "Epoch 67/100\n",
      "1094/1094 [==============================] - 2s 2ms/step - loss: 0.9795 - acc: 0.5943\n",
      "Epoch 68/100\n",
      "1094/1094 [==============================] - 2s 2ms/step - loss: 0.9409 - acc: 0.6277\n",
      "Epoch 69/100\n",
      "1094/1094 [==============================] - 2s 2ms/step - loss: 0.9569 - acc: 0.6277\n",
      "Epoch 70/100\n",
      "1094/1094 [==============================] - 2s 2ms/step - loss: 0.9396 - acc: 0.6174\n",
      "Epoch 71/100\n",
      "1094/1094 [==============================] - 2s 2ms/step - loss: 0.9785 - acc: 0.6029\n",
      "Epoch 72/100\n",
      "1094/1094 [==============================] - 2s 2ms/step - loss: 0.9301 - acc: 0.6318\n",
      "Epoch 73/100\n",
      "1094/1094 [==============================] - 2s 2ms/step - loss: 0.9584 - acc: 0.6167\n",
      "Epoch 74/100\n",
      "1094/1094 [==============================] - 2s 2ms/step - loss: 0.9336 - acc: 0.6179\n",
      "Epoch 75/100\n",
      "1094/1094 [==============================] - 2s 2ms/step - loss: 0.9699 - acc: 0.6227\n",
      "Epoch 76/100\n",
      "1094/1094 [==============================] - 2s 2ms/step - loss: 0.9509 - acc: 0.6049\n",
      "Epoch 77/100\n",
      "1094/1094 [==============================] - 2s 2ms/step - loss: 0.9350 - acc: 0.6270\n",
      "Epoch 78/100\n",
      "1094/1094 [==============================] - 2s 2ms/step - loss: 0.9595 - acc: 0.6051\n",
      "Epoch 79/100\n",
      "1094/1094 [==============================] - 2s 2ms/step - loss: 0.9148 - acc: 0.6329\n",
      "Epoch 80/100\n",
      "1094/1094 [==============================] - 2s 2ms/step - loss: 0.9530 - acc: 0.6336\n",
      "Epoch 81/100\n",
      "1094/1094 [==============================] - 2s 2ms/step - loss: 0.9776 - acc: 0.6102\n",
      "Epoch 82/100\n",
      "1094/1094 [==============================] - 2s 2ms/step - loss: 0.9487 - acc: 0.6233\n",
      "Epoch 83/100\n"
     ]
    },
    {
     "name": "stdout",
     "output_type": "stream",
     "text": [
      "1094/1094 [==============================] - 2s 2ms/step - loss: 0.9318 - acc: 0.6363\n",
      "Epoch 84/100\n",
      "1094/1094 [==============================] - 2s 2ms/step - loss: 0.9085 - acc: 0.6376\n",
      "Epoch 85/100\n",
      "1094/1094 [==============================] - 2s 2ms/step - loss: 0.9426 - acc: 0.6177\n",
      "Epoch 86/100\n",
      "1094/1094 [==============================] - 2s 2ms/step - loss: 0.9300 - acc: 0.6284\n",
      "Epoch 87/100\n",
      "1094/1094 [==============================] - 2s 2ms/step - loss: 0.9231 - acc: 0.6286\n",
      "Epoch 88/100\n",
      "1094/1094 [==============================] - 2s 2ms/step - loss: 0.9489 - acc: 0.6182\n",
      "Epoch 89/100\n",
      "1094/1094 [==============================] - 2s 2ms/step - loss: 0.9315 - acc: 0.6300\n",
      "Epoch 90/100\n",
      "1094/1094 [==============================] - 2s 2ms/step - loss: 0.8993 - acc: 0.6524\n",
      "Epoch 91/100\n",
      "1094/1094 [==============================] - 2s 2ms/step - loss: 0.9074 - acc: 0.6672\n",
      "Epoch 92/100\n",
      "1094/1094 [==============================] - 2s 2ms/step - loss: 0.9576 - acc: 0.6243\n",
      "Epoch 93/100\n",
      "1094/1094 [==============================] - 2s 2ms/step - loss: 0.8907 - acc: 0.6639\n",
      "Epoch 94/100\n",
      "1094/1094 [==============================] - 2s 2ms/step - loss: 0.9175 - acc: 0.6337\n",
      "Epoch 95/100\n",
      "1094/1094 [==============================] - 2s 2ms/step - loss: 0.8907 - acc: 0.6563\n",
      "Epoch 96/100\n",
      "1094/1094 [==============================] - 2s 2ms/step - loss: 0.8788 - acc: 0.6691\n",
      "Epoch 97/100\n",
      "1094/1094 [==============================] - 2s 2ms/step - loss: 0.9515 - acc: 0.6326\n",
      "Epoch 98/100\n",
      "1094/1094 [==============================] - 2s 2ms/step - loss: 0.8813 - acc: 0.6615\n",
      "Epoch 99/100\n",
      "1094/1094 [==============================] - 2s 2ms/step - loss: 0.9271 - acc: 0.6528\n",
      "Epoch 100/100\n",
      "1094/1094 [==============================] - 2s 2ms/step - loss: 0.8780 - acc: 0.6720\n"
     ]
    },
    {
     "data": {
      "text/plain": [
       "<keras.callbacks.History at 0x2e8f3a66430>"
      ]
     },
     "execution_count": 49,
     "metadata": {},
     "output_type": "execute_result"
    }
   ],
   "source": [
    "model.fit(X, Y, epochs=100)"
   ]
  },
  {
   "cell_type": "markdown",
   "id": "001a733a",
   "metadata": {},
   "source": [
    "### Genrate Testing Data"
   ]
  },
  {
   "cell_type": "code",
   "execution_count": 52,
   "id": "af26c286",
   "metadata": {},
   "outputs": [
    {
     "data": {
      "text/html": [
       "<div>\n",
       "<style scoped>\n",
       "    .dataframe tbody tr th:only-of-type {\n",
       "        vertical-align: middle;\n",
       "    }\n",
       "\n",
       "    .dataframe tbody tr th {\n",
       "        vertical-align: top;\n",
       "    }\n",
       "\n",
       "    .dataframe thead th {\n",
       "        text-align: right;\n",
       "    }\n",
       "</style>\n",
       "<table border=\"1\" class=\"dataframe\">\n",
       "  <thead>\n",
       "    <tr style=\"text-align: right;\">\n",
       "      <th></th>\n",
       "      <th>s1</th>\n",
       "      <th>s2</th>\n",
       "      <th>s3</th>\n",
       "      <th>s4</th>\n",
       "      <th>s5</th>\n",
       "    </tr>\n",
       "  </thead>\n",
       "  <tbody>\n",
       "    <tr>\n",
       "      <th>0</th>\n",
       "      <td>72</td>\n",
       "      <td>58</td>\n",
       "      <td>98</td>\n",
       "      <td>23</td>\n",
       "      <td>55</td>\n",
       "    </tr>\n",
       "    <tr>\n",
       "      <th>1</th>\n",
       "      <td>56</td>\n",
       "      <td>43</td>\n",
       "      <td>52</td>\n",
       "      <td>33</td>\n",
       "      <td>74</td>\n",
       "    </tr>\n",
       "    <tr>\n",
       "      <th>2</th>\n",
       "      <td>82</td>\n",
       "      <td>29</td>\n",
       "      <td>98</td>\n",
       "      <td>59</td>\n",
       "      <td>50</td>\n",
       "    </tr>\n",
       "    <tr>\n",
       "      <th>3</th>\n",
       "      <td>41</td>\n",
       "      <td>42</td>\n",
       "      <td>82</td>\n",
       "      <td>99</td>\n",
       "      <td>76</td>\n",
       "    </tr>\n",
       "    <tr>\n",
       "      <th>4</th>\n",
       "      <td>68</td>\n",
       "      <td>59</td>\n",
       "      <td>33</td>\n",
       "      <td>86</td>\n",
       "      <td>74</td>\n",
       "    </tr>\n",
       "  </tbody>\n",
       "</table>\n",
       "</div>"
      ],
      "text/plain": [
       "   s1  s2  s3  s4  s5\n",
       "0  72  58  98  23  55\n",
       "1  56  43  52  33  74\n",
       "2  82  29  98  59  50\n",
       "3  41  42  82  99  76\n",
       "4  68  59  33  86  74"
      ]
     },
     "execution_count": 52,
     "metadata": {},
     "output_type": "execute_result"
    }
   ],
   "source": [
    "df1 = pd.DataFrame(np.random.randint(20, 100, size = (20, 5)),\n",
    "                  columns = ['s1', 's2', 's3', 's4', 's5'])\n",
    "df1.head()"
   ]
  },
  {
   "cell_type": "markdown",
   "id": "72a2db04",
   "metadata": {},
   "source": [
    "### Now understand how prediction function will work"
   ]
  },
  {
   "cell_type": "code",
   "execution_count": 53,
   "id": "67779e30",
   "metadata": {},
   "outputs": [
    {
     "name": "stdout",
     "output_type": "stream",
     "text": [
      "1/1 [==============================] - 0s 113ms/step\n"
     ]
    },
    {
     "data": {
      "text/plain": [
       "array([[8.1973420e-03, 9.9057490e-01, 1.2271816e-03, 5.9355665e-07,\n",
       "        2.0350552e-13, 1.5999898e-27, 0.0000000e+00]], dtype=float32)"
      ]
     },
     "execution_count": 53,
     "metadata": {},
     "output_type": "execute_result"
    }
   ],
   "source": [
    "model.predict([[90,98,95,97,95]])"
   ]
  },
  {
   "cell_type": "code",
   "execution_count": 54,
   "id": "19ba9109",
   "metadata": {},
   "outputs": [
    {
     "name": "stdout",
     "output_type": "stream",
     "text": [
      "1/1 [==============================] - 0s 51ms/step\n"
     ]
    },
    {
     "data": {
      "text/plain": [
       "1.0"
      ]
     },
     "execution_count": 54,
     "metadata": {},
     "output_type": "execute_result"
    }
   ],
   "source": [
    "model.predict([[90,98,95,97,95]]).sum()"
   ]
  },
  {
   "cell_type": "code",
   "execution_count": 55,
   "id": "2784c65e",
   "metadata": {},
   "outputs": [
    {
     "name": "stdout",
     "output_type": "stream",
     "text": [
      "1/1 [==============================] - 0s 76ms/step\n"
     ]
    },
    {
     "data": {
      "text/plain": [
       "0.9905749"
      ]
     },
     "execution_count": 55,
     "metadata": {},
     "output_type": "execute_result"
    }
   ],
   "source": [
    "model.predict([[90,98,95,97,95]]).max()"
   ]
  },
  {
   "cell_type": "code",
   "execution_count": 56,
   "id": "26322c96",
   "metadata": {},
   "outputs": [
    {
     "name": "stdout",
     "output_type": "stream",
     "text": [
      "1/1 [==============================] - 0s 55ms/step\n",
      "[[8.1973420e-03 9.9057490e-01 1.2271816e-03 5.9355665e-07 2.0350552e-13\n",
      "  1.5999898e-27 0.0000000e+00]]\n",
      "1/1 [==============================] - 0s 45ms/step\n"
     ]
    },
    {
     "data": {
      "text/plain": [
       "1"
      ]
     },
     "execution_count": 56,
     "metadata": {},
     "output_type": "execute_result"
    }
   ],
   "source": [
    "print(model.predict([[90,98,95,97,95]]))\n",
    "np.argmax(model.predict([[90,98,95,97,95]]))"
   ]
  },
  {
   "cell_type": "code",
   "execution_count": 57,
   "id": "1e42ebd6",
   "metadata": {},
   "outputs": [
    {
     "data": {
      "text/plain": [
       "Index(['A', 'A+', 'B', 'C', 'D', 'E', 'F'], dtype='object')"
      ]
     },
     "execution_count": 57,
     "metadata": {},
     "output_type": "execute_result"
    }
   ],
   "source": [
    "Y.columns"
   ]
  },
  {
   "cell_type": "code",
   "execution_count": 58,
   "id": "ee8e225e",
   "metadata": {},
   "outputs": [
    {
     "name": "stdout",
     "output_type": "stream",
     "text": [
      "1/1 [==============================] - 0s 55ms/step\n"
     ]
    },
    {
     "data": {
      "text/plain": [
       "Index(['A+'], dtype='object')"
      ]
     },
     "execution_count": 58,
     "metadata": {},
     "output_type": "execute_result"
    }
   ],
   "source": [
    "# pass single row for prediction\n",
    "Y.columns.take(np.argmax(model.predict([[90,98,95,97,95]]), axis=1))"
   ]
  },
  {
   "cell_type": "code",
   "execution_count": 59,
   "id": "3865cdb2",
   "metadata": {},
   "outputs": [
    {
     "name": "stdout",
     "output_type": "stream",
     "text": [
      "1/1 [==============================] - 0s 30ms/step\n"
     ]
    },
    {
     "data": {
      "text/html": [
       "<div>\n",
       "<style scoped>\n",
       "    .dataframe tbody tr th:only-of-type {\n",
       "        vertical-align: middle;\n",
       "    }\n",
       "\n",
       "    .dataframe tbody tr th {\n",
       "        vertical-align: top;\n",
       "    }\n",
       "\n",
       "    .dataframe thead th {\n",
       "        text-align: right;\n",
       "    }\n",
       "</style>\n",
       "<table border=\"1\" class=\"dataframe\">\n",
       "  <thead>\n",
       "    <tr style=\"text-align: right;\">\n",
       "      <th></th>\n",
       "      <th>s1</th>\n",
       "      <th>s2</th>\n",
       "      <th>s3</th>\n",
       "      <th>s4</th>\n",
       "      <th>s5</th>\n",
       "      <th>predict</th>\n",
       "    </tr>\n",
       "  </thead>\n",
       "  <tbody>\n",
       "    <tr>\n",
       "      <th>0</th>\n",
       "      <td>72</td>\n",
       "      <td>58</td>\n",
       "      <td>98</td>\n",
       "      <td>23</td>\n",
       "      <td>55</td>\n",
       "      <td>A+</td>\n",
       "    </tr>\n",
       "    <tr>\n",
       "      <th>1</th>\n",
       "      <td>56</td>\n",
       "      <td>43</td>\n",
       "      <td>52</td>\n",
       "      <td>33</td>\n",
       "      <td>74</td>\n",
       "      <td>A+</td>\n",
       "    </tr>\n",
       "    <tr>\n",
       "      <th>2</th>\n",
       "      <td>82</td>\n",
       "      <td>29</td>\n",
       "      <td>98</td>\n",
       "      <td>59</td>\n",
       "      <td>50</td>\n",
       "      <td>B</td>\n",
       "    </tr>\n",
       "    <tr>\n",
       "      <th>3</th>\n",
       "      <td>41</td>\n",
       "      <td>42</td>\n",
       "      <td>82</td>\n",
       "      <td>99</td>\n",
       "      <td>76</td>\n",
       "      <td>B</td>\n",
       "    </tr>\n",
       "    <tr>\n",
       "      <th>4</th>\n",
       "      <td>68</td>\n",
       "      <td>59</td>\n",
       "      <td>33</td>\n",
       "      <td>86</td>\n",
       "      <td>74</td>\n",
       "      <td>B</td>\n",
       "    </tr>\n",
       "    <tr>\n",
       "      <th>5</th>\n",
       "      <td>35</td>\n",
       "      <td>62</td>\n",
       "      <td>70</td>\n",
       "      <td>65</td>\n",
       "      <td>56</td>\n",
       "      <td>C</td>\n",
       "    </tr>\n",
       "    <tr>\n",
       "      <th>6</th>\n",
       "      <td>35</td>\n",
       "      <td>99</td>\n",
       "      <td>36</td>\n",
       "      <td>96</td>\n",
       "      <td>58</td>\n",
       "      <td>B</td>\n",
       "    </tr>\n",
       "    <tr>\n",
       "      <th>7</th>\n",
       "      <td>84</td>\n",
       "      <td>75</td>\n",
       "      <td>98</td>\n",
       "      <td>99</td>\n",
       "      <td>56</td>\n",
       "      <td>A+</td>\n",
       "    </tr>\n",
       "    <tr>\n",
       "      <th>8</th>\n",
       "      <td>20</td>\n",
       "      <td>80</td>\n",
       "      <td>22</td>\n",
       "      <td>22</td>\n",
       "      <td>70</td>\n",
       "      <td>F</td>\n",
       "    </tr>\n",
       "    <tr>\n",
       "      <th>9</th>\n",
       "      <td>74</td>\n",
       "      <td>60</td>\n",
       "      <td>34</td>\n",
       "      <td>76</td>\n",
       "      <td>50</td>\n",
       "      <td>B</td>\n",
       "    </tr>\n",
       "    <tr>\n",
       "      <th>10</th>\n",
       "      <td>75</td>\n",
       "      <td>78</td>\n",
       "      <td>97</td>\n",
       "      <td>81</td>\n",
       "      <td>45</td>\n",
       "      <td>A+</td>\n",
       "    </tr>\n",
       "    <tr>\n",
       "      <th>11</th>\n",
       "      <td>41</td>\n",
       "      <td>62</td>\n",
       "      <td>48</td>\n",
       "      <td>64</td>\n",
       "      <td>37</td>\n",
       "      <td>C</td>\n",
       "    </tr>\n",
       "    <tr>\n",
       "      <th>12</th>\n",
       "      <td>73</td>\n",
       "      <td>91</td>\n",
       "      <td>78</td>\n",
       "      <td>71</td>\n",
       "      <td>68</td>\n",
       "      <td>A+</td>\n",
       "    </tr>\n",
       "    <tr>\n",
       "      <th>13</th>\n",
       "      <td>81</td>\n",
       "      <td>97</td>\n",
       "      <td>59</td>\n",
       "      <td>58</td>\n",
       "      <td>94</td>\n",
       "      <td>A+</td>\n",
       "    </tr>\n",
       "    <tr>\n",
       "      <th>14</th>\n",
       "      <td>89</td>\n",
       "      <td>88</td>\n",
       "      <td>43</td>\n",
       "      <td>79</td>\n",
       "      <td>55</td>\n",
       "      <td>B</td>\n",
       "    </tr>\n",
       "    <tr>\n",
       "      <th>15</th>\n",
       "      <td>96</td>\n",
       "      <td>58</td>\n",
       "      <td>42</td>\n",
       "      <td>43</td>\n",
       "      <td>62</td>\n",
       "      <td>A+</td>\n",
       "    </tr>\n",
       "    <tr>\n",
       "      <th>16</th>\n",
       "      <td>81</td>\n",
       "      <td>54</td>\n",
       "      <td>63</td>\n",
       "      <td>55</td>\n",
       "      <td>44</td>\n",
       "      <td>B</td>\n",
       "    </tr>\n",
       "    <tr>\n",
       "      <th>17</th>\n",
       "      <td>24</td>\n",
       "      <td>60</td>\n",
       "      <td>55</td>\n",
       "      <td>68</td>\n",
       "      <td>33</td>\n",
       "      <td>C</td>\n",
       "    </tr>\n",
       "    <tr>\n",
       "      <th>18</th>\n",
       "      <td>44</td>\n",
       "      <td>46</td>\n",
       "      <td>88</td>\n",
       "      <td>65</td>\n",
       "      <td>58</td>\n",
       "      <td>B</td>\n",
       "    </tr>\n",
       "    <tr>\n",
       "      <th>19</th>\n",
       "      <td>45</td>\n",
       "      <td>40</td>\n",
       "      <td>46</td>\n",
       "      <td>22</td>\n",
       "      <td>97</td>\n",
       "      <td>F</td>\n",
       "    </tr>\n",
       "  </tbody>\n",
       "</table>\n",
       "</div>"
      ],
      "text/plain": [
       "    s1  s2  s3  s4  s5 predict\n",
       "0   72  58  98  23  55      A+\n",
       "1   56  43  52  33  74      A+\n",
       "2   82  29  98  59  50       B\n",
       "3   41  42  82  99  76       B\n",
       "4   68  59  33  86  74       B\n",
       "5   35  62  70  65  56       C\n",
       "6   35  99  36  96  58       B\n",
       "7   84  75  98  99  56      A+\n",
       "8   20  80  22  22  70       F\n",
       "9   74  60  34  76  50       B\n",
       "10  75  78  97  81  45      A+\n",
       "11  41  62  48  64  37       C\n",
       "12  73  91  78  71  68      A+\n",
       "13  81  97  59  58  94      A+\n",
       "14  89  88  43  79  55       B\n",
       "15  96  58  42  43  62      A+\n",
       "16  81  54  63  55  44       B\n",
       "17  24  60  55  68  33       C\n",
       "18  44  46  88  65  58       B\n",
       "19  45  40  46  22  97       F"
      ]
     },
     "execution_count": 59,
     "metadata": {},
     "output_type": "execute_result"
    }
   ],
   "source": [
    "df1['predict']=Y.columns.take(np.argmax(model.predict(df1.loc[:,'s1':'s5']), axis=1))\n",
    "df1"
   ]
  },
  {
   "cell_type": "markdown",
   "id": "6a99358e",
   "metadata": {},
   "source": [
    "# Find Grades(Rules) With Machine Learning"
   ]
  },
  {
   "cell_type": "markdown",
   "id": "b695df33",
   "metadata": {},
   "source": [
    "### Load libraries"
   ]
  },
  {
   "cell_type": "code",
   "execution_count": 60,
   "id": "63e00745",
   "metadata": {},
   "outputs": [],
   "source": [
    "from sklearn.tree import DecisionTreeClassifier # Import Decision Tree Classifier\n",
    "from sklearn.model_selection import train_test_split # Import train_test_split function\n",
    "from sklearn import metrics #Import scikit-learn metrics module for accuracy calculation"
   ]
  },
  {
   "cell_type": "markdown",
   "id": "65564210",
   "metadata": {},
   "source": [
    "### Split dataset in features and target variable"
   ]
  },
  {
   "cell_type": "code",
   "execution_count": 81,
   "id": "dee499ec",
   "metadata": {},
   "outputs": [],
   "source": [
    "X = df['percentage'] # Features\n",
    "Y = df['Grade'] # Target variable"
   ]
  },
  {
   "cell_type": "code",
   "execution_count": 82,
   "id": "56ee227e",
   "metadata": {},
   "outputs": [
    {
     "data": {
      "text/plain": [
       "0    24.0\n",
       "1    24.2\n",
       "2    24.0\n",
       "3    20.8\n",
       "4    25.8\n",
       "Name: percentage, dtype: float64"
      ]
     },
     "execution_count": 82,
     "metadata": {},
     "output_type": "execute_result"
    }
   ],
   "source": [
    "X.head()"
   ]
  },
  {
   "cell_type": "code",
   "execution_count": 83,
   "id": "774c07a1",
   "metadata": {},
   "outputs": [
    {
     "data": {
      "text/plain": [
       "0    F\n",
       "1    F\n",
       "2    F\n",
       "3    F\n",
       "4    F\n",
       "Name: Grade, dtype: object"
      ]
     },
     "execution_count": 83,
     "metadata": {},
     "output_type": "execute_result"
    }
   ],
   "source": [
    "Y.head()"
   ]
  },
  {
   "cell_type": "markdown",
   "id": "0b10df6f",
   "metadata": {},
   "source": [
    "### Converting Pandas series into 2D array"
   ]
  },
  {
   "cell_type": "code",
   "execution_count": 84,
   "id": "391b1efc",
   "metadata": {},
   "outputs": [],
   "source": [
    "X = np.array(X).reshape(-1,1)\n",
    "Y = np.array(Y).reshape(-1,1)"
   ]
  },
  {
   "cell_type": "markdown",
   "id": "46543649",
   "metadata": {},
   "source": [
    "### Split dataset into training set and test set"
   ]
  },
  {
   "cell_type": "code",
   "execution_count": 85,
   "id": "8df5f9ab",
   "metadata": {},
   "outputs": [],
   "source": [
    "X_train, X_test, y_train, y_test = train_test_split(X, Y, test_size=0.3, random_state=1) # 70% training and 30% testing data"
   ]
  },
  {
   "cell_type": "markdown",
   "id": "3acda6d1",
   "metadata": {},
   "source": [
    "### Create Decision Tree classifier object"
   ]
  },
  {
   "cell_type": "code",
   "execution_count": 86,
   "id": "f7031635",
   "metadata": {},
   "outputs": [],
   "source": [
    "clf = DecisionTreeClassifier()"
   ]
  },
  {
   "cell_type": "markdown",
   "id": "8075f060",
   "metadata": {},
   "source": [
    "### Train Decision Tree Classifier"
   ]
  },
  {
   "cell_type": "code",
   "execution_count": 87,
   "id": "f8cd8d6f",
   "metadata": {},
   "outputs": [],
   "source": [
    "clf_model = clf.fit(X_train, y_train)"
   ]
  },
  {
   "cell_type": "markdown",
   "id": "8c902375",
   "metadata": {},
   "source": [
    "### Predict the response for test dataset"
   ]
  },
  {
   "cell_type": "code",
   "execution_count": 88,
   "id": "04be7f15",
   "metadata": {},
   "outputs": [],
   "source": [
    "y_pred = clf.predict(X_test)"
   ]
  },
  {
   "cell_type": "markdown",
   "id": "da120654",
   "metadata": {},
   "source": [
    "### Model Accuracy, how often is the classifier correct?"
   ]
  },
  {
   "cell_type": "code",
   "execution_count": 89,
   "id": "2980e66d",
   "metadata": {},
   "outputs": [
    {
     "name": "stdout",
     "output_type": "stream",
     "text": [
      "Accuracy: 1.0\n"
     ]
    }
   ],
   "source": [
    "print(\"Accuracy:\",metrics.accuracy_score(y_test, y_pred)) "
   ]
  },
  {
   "cell_type": "markdown",
   "id": "4d095054",
   "metadata": {},
   "source": [
    "Comment: Accuracy of our model is 100%"
   ]
  },
  {
   "cell_type": "code",
   "execution_count": 90,
   "id": "41dbae05",
   "metadata": {},
   "outputs": [],
   "source": [
    "from sklearn import tree\n",
    "import matplotlib.pyplot as plt"
   ]
  },
  {
   "cell_type": "code",
   "execution_count": 93,
   "id": "61e1e8eb",
   "metadata": {},
   "outputs": [
    {
     "data": {
      "text/plain": [
       "[Text(651.0, 996.6, 'X[0] <= 79.6\\ngini = 0.857\\nsamples = 24500\\nvalue = [3520, 3543, 3516, 3469, 3505, 3494, 3453]\\nclass = y[1]'),\n",
       " Text(558.0, 815.4000000000001, 'X[0] <= 69.3\\ngini = 0.833\\nsamples = 20957\\nvalue = [3520, 0, 3516, 3469, 3505, 3494, 3453]\\nclass = y[0]'),\n",
       " Text(465.0, 634.2, 'X[0] <= 59.0\\ngini = 0.8\\nsamples = 17437\\nvalue = [0, 0, 3516, 3469, 3505, 3494, 3453]\\nclass = y[2]'),\n",
       " Text(372.0, 453.0, 'X[0] <= 39.2\\ngini = 0.75\\nsamples = 13921\\nvalue = [0, 0, 0, 3469, 3505, 3494, 3453]\\nclass = y[4]'),\n",
       " Text(186.0, 271.79999999999995, 'X[0] <= 31.7\\ngini = 0.5\\nsamples = 6947\\nvalue = [0, 0, 0, 0, 0, 3494, 3453]\\nclass = y[5]'),\n",
       " Text(93.0, 90.59999999999991, 'gini = 0.0\\nsamples = 3453\\nvalue = [0, 0, 0, 0, 0, 0, 3453]\\nclass = y[6]'),\n",
       " Text(279.0, 90.59999999999991, 'gini = 0.0\\nsamples = 3494\\nvalue = [0, 0, 0, 0, 0, 3494, 0]\\nclass = y[5]'),\n",
       " Text(558.0, 271.79999999999995, 'X[0] <= 49.0\\ngini = 0.5\\nsamples = 6974\\nvalue = [0, 0, 0, 3469, 3505, 0, 0]\\nclass = y[4]'),\n",
       " Text(465.0, 90.59999999999991, 'gini = 0.0\\nsamples = 3505\\nvalue = [0, 0, 0, 0, 3505, 0, 0]\\nclass = y[4]'),\n",
       " Text(651.0, 90.59999999999991, 'gini = 0.0\\nsamples = 3469\\nvalue = [0, 0, 0, 3469, 0, 0, 0]\\nclass = y[3]'),\n",
       " Text(558.0, 453.0, 'gini = 0.0\\nsamples = 3516\\nvalue = [0, 0, 3516, 0, 0, 0, 0]\\nclass = y[2]'),\n",
       " Text(651.0, 634.2, 'gini = 0.0\\nsamples = 3520\\nvalue = [3520, 0, 0, 0, 0, 0, 0]\\nclass = y[0]'),\n",
       " Text(744.0, 815.4000000000001, 'gini = 0.0\\nsamples = 3543\\nvalue = [0, 3543, 0, 0, 0, 0, 0]\\nclass = y[1]')]"
      ]
     },
     "execution_count": 93,
     "metadata": {},
     "output_type": "execute_result"
    },
    {
     "data": {
      "image/png": "[encoded data removed]",
      "text/plain": [
       "<Figure size 1080x1440 with 1 Axes>"
      ]
     },
     "metadata": {
      "needs_background": "light"
     },
     "output_type": "display_data"
    }
   ],
   "source": [
    "plt.figure(figsize=(15, 20))\n",
    "tree.plot_tree(clf, filled = tree, class_names = True, fontsize = 8)"
   ]
  },
  {
   "cell_type": "code",
   "execution_count": null,
   "id": "b9d0422e",
   "metadata": {},
   "outputs": [],
   "source": []
  }
 ],
 "metadata": {
  "kernelspec": {
   "display_name": "Python 3",
   "language": "python",
   "name": "python3"
  },
  "language_info": {
   "codemirror_mode": {
    "name": "ipython",
    "version": 3
   },
   "file_extension": ".py",
   "mimetype": "text/x-python",
   "name": "python",
   "nbconvert_exporter": "python",
   "pygments_lexer": "ipython3",
   "version": "3.8.8"
  }
 },
 "nbformat": 4,
 "nbformat_minor": 5
}
