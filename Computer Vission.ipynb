{
 "cells": [
  {
   "cell_type": "markdown",
   "id": "072695ad",
   "metadata": {},
   "source": [
    "# Computer Vision problem\n",
    "* load image from directory\n",
    "* apply Auto labels based on your folder names"
   ]
  },
  {
   "cell_type": "code",
   "execution_count": 1,
   "id": "581b40e9",
   "metadata": {},
   "outputs": [],
   "source": [
    "from tensorflow.keras.preprocessing.image import ImageDataGenerator"
   ]
  },
  {
   "cell_type": "code",
   "execution_count": 2,
   "id": "965c246b",
   "metadata": {},
   "outputs": [],
   "source": [
    "train_data_gen = ImageDataGenerator(rescale=1.0/255)"
   ]
  },
  {
   "cell_type": "code",
   "execution_count": 3,
   "id": "712696cf",
   "metadata": {},
   "outputs": [
    {
     "name": "stdout",
     "output_type": "stream",
     "text": [
      "Found 6 images belonging to 2 classes.\n"
     ]
    }
   ],
   "source": [
    "train_data = train_data_gen.flow_from_directory(\n",
    "    './train',\n",
    "    target_size = (150, 150),\n",
    "    batch_size = 20,\n",
    "    class_mode = 'binary'\n",
    ")"
   ]
  },
  {
   "cell_type": "code",
   "execution_count": 4,
   "id": "d8532254",
   "metadata": {},
   "outputs": [
    {
     "data": {
      "text/plain": [
       "{'cat': 0, 'dog': 1}"
      ]
     },
     "execution_count": 4,
     "metadata": {},
     "output_type": "execute_result"
    }
   ],
   "source": [
    "train_data.class_indices"
   ]
  },
  {
   "cell_type": "code",
   "execution_count": 5,
   "id": "a7c87b43",
   "metadata": {},
   "outputs": [],
   "source": [
    "from tensorflow.keras.models import Sequential\n",
    "from tensorflow.keras.layers import Dense, Flatten\n",
    "from tensorflow.keras.optimizers import Adam, SGD"
   ]
  },
  {
   "cell_type": "code",
   "execution_count": 6,
   "id": "066a0124",
   "metadata": {},
   "outputs": [
    {
     "data": {
      "text/plain": [
       "67500"
      ]
     },
     "execution_count": 6,
     "metadata": {},
     "output_type": "execute_result"
    }
   ],
   "source": [
    "150*150*3"
   ]
  },
  {
   "cell_type": "code",
   "execution_count": 7,
   "id": "98804040",
   "metadata": {},
   "outputs": [],
   "source": [
    "model = Sequential()\n",
    "model.add(Flatten())\n",
    "model.add(Dense(500, activation = 'relu'))\n",
    "model.add(Dense(1, activation = 'sigmoid'))"
   ]
  },
  {
   "cell_type": "code",
   "execution_count": 8,
   "id": "4cf98d50",
   "metadata": {},
   "outputs": [],
   "source": [
    "model.compile(loss='binary_crossentropy',\n",
    "              optimizer='adam',\n",
    "              metrics=['acc'])"
   ]
  },
  {
   "cell_type": "markdown",
   "id": "2e61294e",
   "metadata": {},
   "source": [
    "### Train Model"
   ]
  },
  {
   "cell_type": "code",
   "execution_count": 9,
   "id": "69f6216e",
   "metadata": {},
   "outputs": [],
   "source": [
    "import pandas as pd\n",
    "import numpy as np"
   ]
  },
  {
   "cell_type": "code",
   "execution_count": 10,
   "id": "1a50702e",
   "metadata": {},
   "outputs": [
    {
     "name": "stdout",
     "output_type": "stream",
     "text": [
      "Epoch 1/15\n",
      "1/1 [==============================] - 1s 1s/step - loss: 1.0330 - acc: 0.5000\n",
      "Epoch 2/15\n",
      "1/1 [==============================] - 0s 498ms/step - loss: 86.3131 - acc: 0.5000\n",
      "Epoch 3/15\n",
      "1/1 [==============================] - 1s 508ms/step - loss: 40.6982 - acc: 0.5000\n",
      "Epoch 4/15\n",
      "1/1 [==============================] - 1s 515ms/step - loss: 2.5486 - acc: 0.6667\n",
      "Epoch 5/15\n",
      "1/1 [==============================] - 1s 515ms/step - loss: 11.1982 - acc: 0.5000\n",
      "Epoch 6/15\n",
      "1/1 [==============================] - 1s 513ms/step - loss: 7.9871e-06 - acc: 1.0000\n",
      "Epoch 7/15\n",
      "1/1 [==============================] - 0s 486ms/step - loss: 4.4364 - acc: 0.8333\n",
      "Epoch 8/15\n",
      "1/1 [==============================] - 0s 485ms/step - loss: 8.2342 - acc: 0.6667\n",
      "Epoch 9/15\n",
      "1/1 [==============================] - 0s 487ms/step - loss: 4.5941 - acc: 0.8333\n",
      "Epoch 10/15\n",
      "1/1 [==============================] - 0s 487ms/step - loss: 0.4071 - acc: 0.8333\n",
      "Epoch 11/15\n",
      "1/1 [==============================] - 0s 490ms/step - loss: 1.6383e-14 - acc: 1.0000\n",
      "Epoch 12/15\n",
      "1/1 [==============================] - 0s 475ms/step - loss: 3.2217e-26 - acc: 1.0000\n",
      "Epoch 13/15\n",
      "1/1 [==============================] - 0s 494ms/step - loss: 2.5073e-24 - acc: 1.0000\n",
      "Epoch 14/15\n",
      "1/1 [==============================] - 0s 480ms/step - loss: 5.5782e-16 - acc: 1.0000\n",
      "Epoch 15/15\n",
      "1/1 [==============================] - 0s 479ms/step - loss: 1.5618e-08 - acc: 1.0000\n"
     ]
    }
   ],
   "source": [
    "train_model = model.fit(train_data, epochs=15)"
   ]
  },
  {
   "cell_type": "markdown",
   "id": "15b9adf0",
   "metadata": {},
   "source": [
    "### Test Data"
   ]
  },
  {
   "cell_type": "code",
   "execution_count": 11,
   "id": "b283c2b0",
   "metadata": {},
   "outputs": [
    {
     "name": "stdout",
     "output_type": "stream",
     "text": [
      "Found 6 images belonging to 2 classes.\n"
     ]
    }
   ],
   "source": [
    "test_data = train_data_gen.flow_from_directory(\n",
    "    \"./test\",\n",
    "    target_size=(150,150),\n",
    "    batch_size=20,\n",
    "    class_mode='binary'\n",
    ")"
   ]
  },
  {
   "cell_type": "code",
   "execution_count": 12,
   "id": "f6f6aad9",
   "metadata": {},
   "outputs": [
    {
     "name": "stdout",
     "output_type": "stream",
     "text": [
      "1/1 [==============================] - 0s 163ms/step\n"
     ]
    },
    {
     "data": {
      "text/plain": [
       "array([[1.        ],\n",
       "       [0.        ],\n",
       "       [0.71935797],\n",
       "       [0.        ],\n",
       "       [0.        ],\n",
       "       [0.99999976]], dtype=float32)"
      ]
     },
     "execution_count": 12,
     "metadata": {},
     "output_type": "execute_result"
    }
   ],
   "source": [
    "Y = model.predict(test_data)\n",
    "Y"
   ]
  },
  {
   "cell_type": "code",
   "execution_count": 13,
   "id": "bb5ebc83",
   "metadata": {},
   "outputs": [
    {
     "data": {
      "text/plain": [
       "array([['Dog'],\n",
       "       ['Cat'],\n",
       "       ['Dog'],\n",
       "       ['Cat'],\n",
       "       ['Cat'],\n",
       "       ['Dog']], dtype='<U3')"
      ]
     },
     "execution_count": 13,
     "metadata": {},
     "output_type": "execute_result"
    }
   ],
   "source": [
    "np.where(Y>0, \"Dog\", \"Cat\")"
   ]
  },
  {
   "cell_type": "code",
   "execution_count": 14,
   "id": "963d7500",
   "metadata": {},
   "outputs": [
    {
     "name": "stdout",
     "output_type": "stream",
     "text": [
      "WARNING:tensorflow:Model was constructed with shape (None, None, None, None) for input KerasTensor(type_spec=TensorSpec(shape=(None, None, None, None), dtype=tf.float32, name='flatten_input'), name='flatten_input', description=\"created by layer 'flatten_input'\"), but it was called on an input with incompatible shape (None, 67500).\n",
      "1/1 [==============================] - 0s 79ms/step\n"
     ]
    },
    {
     "data": {
      "text/plain": [
       "array([[0.99999976]], dtype=float32)"
      ]
     },
     "execution_count": 14,
     "metadata": {},
     "output_type": "execute_result"
    }
   ],
   "source": [
    "from tensorflow.keras.preprocessing import image\n",
    "import numpy as np\n",
    "img = image.load_img(\"./train/dog/2.jpg\", target_size=(150,150))\n",
    "x=image.img_to_array(img) / 255\n",
    "x = x.reshape(1,-1)\n",
    "model.predict(x)"
   ]
  },
  {
   "cell_type": "code",
   "execution_count": null,
   "id": "c8eb43dd",
   "metadata": {},
   "outputs": [],
   "source": []
  }
 ],
 "metadata": {
  "kernelspec": {
   "display_name": "Python 3",
   "language": "python",
   "name": "python3"
  },
  "language_info": {
   "codemirror_mode": {
    "name": "ipython",
    "version": 3
   },
   "file_extension": ".py",
   "mimetype": "text/x-python",
   "name": "python",
   "nbconvert_exporter": "python",
   "pygments_lexer": "ipython3",
   "version": "3.8.8"
  }
 },
 "nbformat": 4,
 "nbformat_minor": 5
}
